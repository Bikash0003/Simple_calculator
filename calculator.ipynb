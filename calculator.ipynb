{
 "cells": [
  {
   "cell_type": "code",
   "execution_count": null,
   "id": "5bad40b1-3777-4d53-b7e0-c4ade657c591",
   "metadata": {},
   "outputs": [],
   "source": []
  },
  {
   "cell_type": "markdown",
   "id": "343860dc-4b45-46d7-a997-52be08bda424",
   "metadata": {},
   "source": [
    "# This is a simple calculator project where we can perform addition, subtraction, multiplication and division between two numbers:"
   ]
  },
  {
   "cell_type": "code",
   "execution_count": 107,
   "id": "53bebd3c-a86c-409a-9282-3b5ae6d1dd14",
   "metadata": {},
   "outputs": [
    {
     "name": "stdin",
     "output_type": "stream",
     "text": [
      "Which operation you want to do?\n",
      "press 1 for addition\n",
      "press 2 for subtraction\n",
      "press 3 for multiplication \n",
      " press 4 for division \n",
      " 3\n",
      "Enter the first number:  2.5\n",
      "Enter the second number:  2\n"
     ]
    },
    {
     "name": "stdout",
     "output_type": "stream",
     "text": [
      "The product is:5.0\n"
     ]
    }
   ],
   "source": [
    "c = int(input(f\"Which operation you want to do?\\n\"\n",
    "              \"press 1 for addition\\n\"\n",
    "                \"press 2 for subtraction\\n\"\n",
    "                \"press 3 for multiplication \\n \"\n",
    "                    \"press 4 for division \\n\"))\n",
    "if c>4 or c<1:\n",
    "    print(\"Please enter valid number \")\n",
    "else:\n",
    "    a = float(input(\"Enter the first number: \"))\n",
    "    b = float(input(\"Enter the second number: \"))\n",
    "    \n",
    "def cal_sum():\n",
    "    return  a + b\n",
    "    \n",
    "def multiply():\n",
    "    return  a * b\n",
    "      \n",
    "def subtraction():\n",
    "    return  a - b\n",
    "    \n",
    "def division():\n",
    "    if b!=0:\n",
    "        return  a / b\n",
    "    else:\n",
    "        print(\"any numbers cant be divided by zero\")\n",
    "if c==1:\n",
    "    result = cal_sum()\n",
    "    print(f\"The sum is: {result}\")\n",
    "if c==3:\n",
    "    result=multiply()\n",
    "    print(f\"The product is:{result}\")\n",
    "if c==2:\n",
    "    result=subtraction()\n",
    "    print(f\"The difference is:{result}\")   \n",
    "if c==4:\n",
    "    result=division()\n",
    "    print(f\"The division is:{result}\")\n"
   ]
  },
  {
   "cell_type": "markdown",
   "id": "cfbc8412-9a69-401a-86d4-5730db9a043a",
   "metadata": {},
   "source": []
  },
  {
   "cell_type": "code",
   "execution_count": null,
   "id": "a7487d9c-3194-4455-a84d-9ec54459cc3e",
   "metadata": {},
   "outputs": [],
   "source": []
  }
 ],
 "metadata": {
  "kernelspec": {
   "display_name": "Python 3 (ipykernel)",
   "language": "python",
   "name": "python3"
  },
  "language_info": {
   "codemirror_mode": {
    "name": "ipython",
    "version": 3
   },
   "file_extension": ".py",
   "mimetype": "text/x-python",
   "name": "python",
   "nbconvert_exporter": "python",
   "pygments_lexer": "ipython3",
   "version": "3.11.7"
  }
 },
 "nbformat": 4,
 "nbformat_minor": 5
}
